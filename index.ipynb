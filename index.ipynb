{
 "cells": [
  {
   "cell_type": "code",
   "execution_count": 2,
   "metadata": {},
   "outputs": [],
   "source": [
    "import cv2\n",
    "import os\n",
    "from datetime import date\n",
    "from datetime import datetime\n",
    "import numpy as np\n",
    "from sklearn.neighbors import KNeighborsClassifier\n",
    "import pandas as pd\n",
    "import joblib"
   ]
  },
  {
   "cell_type": "code",
   "execution_count": 3,
   "metadata": {},
   "outputs": [],
   "source": [
    "face_detector = cv2.CascadeClassifier('model/haarcascade_frontalface_default.xml')\n",
    "smile_detector = cv2.CascadeClassifier('model/haarcascade_smile.xml')"
   ]
  },
  {
   "cell_type": "code",
   "execution_count": 4,
   "metadata": {},
   "outputs": [],
   "source": [
    "cap = cv2.VideoCapture(0)"
   ]
  },
  {
   "cell_type": "code",
   "execution_count": 5,
   "metadata": {},
   "outputs": [],
   "source": [
    "datetoday = date.today().strftime(\"%m_%d_%y\")\n",
    "datetoday2 = date.today().strftime(\"%d-%B-%Y\")"
   ]
  },
  {
   "cell_type": "code",
   "execution_count": 6,
   "metadata": {},
   "outputs": [],
   "source": [
    "if not os.path.isdir('Attendance'):\n",
    "    os.makedirs('Attendance')\n",
    "if not os.path.isdir('static/faces'):\n",
    "    os.makedirs('static/faces')\n",
    "if f'Attendance-{datetoday}.csv' not in os.listdir('Attendance'):\n",
    "    with open(f'Attendance/Attendance-{datetoday}.csv','w') as f:\n",
    "        f.write('Name,Roll,Time')\n"
   ]
  },
  {
   "cell_type": "code",
   "execution_count": 7,
   "metadata": {},
   "outputs": [],
   "source": [
    "def totalreg():\n",
    "    return len(os.listdir('static/faces'))"
   ]
  },
  {
   "cell_type": "code",
   "execution_count": 8,
   "metadata": {},
   "outputs": [],
   "source": [
    "def extract_faces(img):\n",
    "    gray = cv2.cvtColor(img, cv2.COLOR_BGR2GRAY)\n",
    "    face_points = face_detector.detectMultiScale(gray, 1.3, 5)\n",
    "    return face_points"
   ]
  },
  {
   "cell_type": "code",
   "execution_count": 9,
   "metadata": {},
   "outputs": [],
   "source": [
    "def smile_detector(img):\n",
    "    gray = cv2.cvtColor(img, cv2.COLOR_BGR2GRAY)\n",
    "    smile_points = smile_detector.detectMultiScale(gray, 1.7, 35)\n",
    "    return smile_points"
   ]
  },
  {
   "cell_type": "code",
   "execution_count": 10,
   "metadata": {},
   "outputs": [],
   "source": [
    "def identify_face(facearray):\n",
    "    model = joblib.load('model/face_recognition_model.pkl')\n",
    "    return model.predict(facearray)"
   ]
  },
  {
   "cell_type": "code",
   "execution_count": 11,
   "metadata": {},
   "outputs": [],
   "source": [
    "def train_model():\n",
    "    faces = []\n",
    "    labels = []\n",
    "    userlist = os.listdir('static/faces')\n",
    "    for user in userlist:\n",
    "        for imgname in os.listdir(f'static/faces/{user}'):\n",
    "            img = cv2.imread(f'static/faces/{user}/{imgname}')\n",
    "            resized_face = cv2.resize(img, (50, 50))\n",
    "            faces.append(resized_face.ravel())\n",
    "            labels.append(user)\n",
    "    faces = np.array(faces)\n",
    "    knn = KNeighborsClassifier(n_neighbors=5)\n",
    "    knn.fit(faces,labels)\n",
    "    joblib.dump(knn,'model/face_recognition_model.pkl')"
   ]
  },
  {
   "cell_type": "code",
   "execution_count": 12,
   "metadata": {},
   "outputs": [],
   "source": [
    "def extract_attendance():\n",
    "    df = pd.read_csv(f'Attendance/Attendance-{datetoday}.csv')\n",
    "    names = df['Name']\n",
    "    rolls = df['Roll']\n",
    "    times = df['Time']\n",
    "    l = len(df)\n",
    "    return names,rolls,times,l"
   ]
  },
  {
   "cell_type": "code",
   "execution_count": 13,
   "metadata": {},
   "outputs": [],
   "source": [
    "def add_attendance(name):\n",
    "    username = name.split('_')[0]\n",
    "    userid = name.split('_')[1]\n",
    "    current_time = datetime.now().strftime(\"%H:%M:%S\")\n",
    "    \n",
    "    df = pd.read_csv(f'Attendance/Attendance-{datetoday}.csv')\n",
    "    if int(userid) not in list(df['Roll']):\n",
    "        with open(f'Attendance/Attendance-{datetoday}.csv','a') as f:\n",
    "            f.write(f'\\n{username},{userid},{current_time}')"
   ]
  },
  {
   "cell_type": "code",
   "execution_count": 12,
   "metadata": {},
   "outputs": [],
   "source": [
    "names,rolls,times,l = extract_attendance()"
   ]
  },
  {
   "cell_type": "code",
   "execution_count": 14,
   "metadata": {},
   "outputs": [
    {
     "data": {
      "text/plain": [
       "(0    Hao\n",
       " Name: Name, dtype: object,\n",
       " 0    20040004\n",
       " Name: Roll, dtype: int64,\n",
       " 0    22:08:41\n",
       " Name: Time, dtype: object,\n",
       " 1)"
      ]
     },
     "execution_count": 14,
     "metadata": {},
     "output_type": "execute_result"
    }
   ],
   "source": [
    "names,rolls,times,l"
   ]
  },
  {
   "cell_type": "code",
   "execution_count": 11,
   "metadata": {},
   "outputs": [],
   "source": [
    "def draw_smile(img, center, radius):\n",
    "    axes = (radius, radius//2)\n",
    "    color = (255,0,0)\n",
    "    cv2.ellipse(img, center, axes, 0, 0, 180, color,thickness=2,lineType=cv2.LINE_AA)\n",
    "    return"
   ]
  },
  {
   "cell_type": "code",
   "execution_count": 18,
   "metadata": {},
   "outputs": [],
   "source": [
    "def detection(grayscale, img, face_detect, smile_detect):\n",
    "\n",
    "    face = face_detect.detectMultiScale(grayscale, 1.3, 5)\n",
    "    for (x,y,w,h) in face:\n",
    "\n",
    "        ri_grayscale = grayscale[y:y+h, x:x+w]\n",
    "        ri_color = img[y:y+h, x:x+w]\n",
    "        \n",
    "        \n",
    "        cv2.rectangle(img,(x, y), (x+w, y+h), (255, 0, 20), 2)\n",
    "        \n",
    "        smile_lst = smile_detect.detectMultiScale(ri_grayscale, 1.7, 35)\n",
    "        smiled = False\n",
    "        \n",
    "        for (x_smile, y_smile, w_smile, h_smile) in smile_lst:\n",
    "            draw_smile(ri_color, (x_smile + w_smile // 2, y_smile + h_smile // 4), radius=w_smile // 3)\n",
    "            smiled =  True\n",
    "\n",
    "        if smiled:\n",
    "            cv2.putText(face,\"Smile\",(10,30),cv2.FONT_HERSHEY_SIMPLEX,0.5,(255,0,20),2)\n",
    "            # cv2.putText(img,\"Smile\",(100,100),cv2.FONT_HERSHEY_SIMPLEX,1.5,(0,0,255),3)\n",
    "    return img"
   ]
  },
  {
   "cell_type": "code",
   "execution_count": 9,
   "metadata": {},
   "outputs": [
    {
     "ename": "NameError",
     "evalue": "name 'extract_faces' is not defined",
     "output_type": "error",
     "traceback": [
      "\u001b[1;31m---------------------------------------------------------------------------\u001b[0m",
      "\u001b[1;31mNameError\u001b[0m                                 Traceback (most recent call last)",
      "Cell \u001b[1;32mIn [9], line 5\u001b[0m\n\u001b[0;32m      3\u001b[0m \u001b[39mwhile\u001b[39;00m ret:\n\u001b[0;32m      4\u001b[0m     ret,frame \u001b[39m=\u001b[39m cap\u001b[39m.\u001b[39mread()\n\u001b[1;32m----> 5\u001b[0m     \u001b[39mif\u001b[39;00m extract_faces(frame)\u001b[39m!=\u001b[39m():\n\u001b[0;32m      6\u001b[0m         (x,y,w,h) \u001b[39m=\u001b[39m extract_faces(frame)[\u001b[39m0\u001b[39m]\n\u001b[0;32m      7\u001b[0m         cv2\u001b[39m.\u001b[39mrectangle(frame,(x, y), (x\u001b[39m+\u001b[39mw, y\u001b[39m+\u001b[39mh), (\u001b[39m255\u001b[39m, \u001b[39m0\u001b[39m, \u001b[39m20\u001b[39m), \u001b[39m2\u001b[39m)\n",
      "\u001b[1;31mNameError\u001b[0m: name 'extract_faces' is not defined"
     ]
    }
   ],
   "source": [
    "cap = cv2.VideoCapture(0)\n",
    "ret = True\n",
    "while ret:\n",
    "    ret,frame = cap.read()\n",
    "    if extract_faces(frame)!=():\n",
    "        (x,y,w,h) = extract_faces(frame)[0]\n",
    "        cv2.rectangle(frame,(x, y), (x+w, y+h), (255, 0, 20), 2)\n",
    "        face = frame[y:y+h,x:x+w]\n",
    "        cv2.putText(face,f'{x,y}',(10,20),cv2.FONT_HERSHEY_SIMPLEX,0.5,(255,0,20),2)\n",
    "\n",
    "        (x,y,w,h) = smile_detector(frame)[0]\n",
    "        face = frame[y:y+h,x:x+w]\n",
    "        cv2.putText(face,\"Smile\",(10,30),cv2.FONT_HERSHEY_SIMPLEX,0.5,(255,0,20),2)\n",
    "        \n",
    "    cv2.imshow('Attendance',frame)\n",
    "    if cv2.waitKey(1)==27:\n",
    "        break\n",
    "cap.release()\n",
    "cv2.destroyAllWindows()"
   ]
  },
  {
   "cell_type": "code",
   "execution_count": 19,
   "metadata": {},
   "outputs": [
    {
     "ename": "error",
     "evalue": "OpenCV(4.6.0) :-1: error: (-5:Bad argument) in function 'putText'\n> Overload resolution failed:\n>  - img is not a numerical tuple\n>  - Expected Ptr<cv::UMat> for argument 'img'\n",
     "output_type": "error",
     "traceback": [
      "\u001b[1;31m---------------------------------------------------------------------------\u001b[0m",
      "\u001b[1;31merror\u001b[0m                                     Traceback (most recent call last)",
      "Cell \u001b[1;32mIn [19], line 7\u001b[0m\n\u001b[0;32m      5\u001b[0m ret,frame \u001b[39m=\u001b[39m cap\u001b[39m.\u001b[39mread()\n\u001b[0;32m      6\u001b[0m gray \u001b[39m=\u001b[39m cv2\u001b[39m.\u001b[39mcvtColor(frame, cv2\u001b[39m.\u001b[39mCOLOR_BGR2GRAY)\n\u001b[1;32m----> 7\u001b[0m frame \u001b[39m=\u001b[39m detection(gray, frame,face_detector, smile_detector)\n\u001b[0;32m      9\u001b[0m cv2\u001b[39m.\u001b[39mimshow(\u001b[39m'\u001b[39m\u001b[39mAttendance\u001b[39m\u001b[39m'\u001b[39m,frame)\n\u001b[0;32m     10\u001b[0m \u001b[39mif\u001b[39;00m cv2\u001b[39m.\u001b[39mwaitKey(\u001b[39m1\u001b[39m)\u001b[39m==\u001b[39m\u001b[39m27\u001b[39m:\n",
      "Cell \u001b[1;32mIn [18], line 20\u001b[0m, in \u001b[0;36mdetection\u001b[1;34m(grayscale, img, face_detect, smile_detect)\u001b[0m\n\u001b[0;32m     17\u001b[0m         smiled \u001b[39m=\u001b[39m  \u001b[39mTrue\u001b[39;00m\n\u001b[0;32m     19\u001b[0m     \u001b[39mif\u001b[39;00m smiled:\n\u001b[1;32m---> 20\u001b[0m         cv2\u001b[39m.\u001b[39;49mputText((x, y),\u001b[39m\"\u001b[39;49m\u001b[39mSmile\u001b[39;49m\u001b[39m\"\u001b[39;49m,(\u001b[39m10\u001b[39;49m,\u001b[39m30\u001b[39;49m),cv2\u001b[39m.\u001b[39;49mFONT_HERSHEY_SIMPLEX,\u001b[39m0.5\u001b[39;49m,(\u001b[39m255\u001b[39;49m,\u001b[39m0\u001b[39;49m,\u001b[39m20\u001b[39;49m),\u001b[39m2\u001b[39;49m)\n\u001b[0;32m     21\u001b[0m         \u001b[39m# cv2.putText(img,\"Smile\",(100,100),cv2.FONT_HERSHEY_SIMPLEX,1.5,(0,0,255),3)\u001b[39;00m\n\u001b[0;32m     22\u001b[0m \u001b[39mreturn\u001b[39;00m img\n",
      "\u001b[1;31merror\u001b[0m: OpenCV(4.6.0) :-1: error: (-5:Bad argument) in function 'putText'\n> Overload resolution failed:\n>  - img is not a numerical tuple\n>  - Expected Ptr<cv::UMat> for argument 'img'\n"
     ]
    },
    {
     "ename": "",
     "evalue": "",
     "output_type": "error",
     "traceback": [
      "\u001b[1;31mThe Kernel crashed while executing code in the the current cell or a previous cell. Please review the code in the cell(s) to identify a possible cause of the failure. Click <a href='https://aka.ms/vscodeJupyterKernelCrash'>here</a> for more info. View Jupyter <a href='command:jupyter.viewOutput'>log</a> for further details."
     ]
    }
   ],
   "source": [
    "cap = cv2.VideoCapture(0)\n",
    "ret = True\n",
    "\n",
    "while ret:\n",
    "    ret,frame = cap.read()\n",
    "    gray = cv2.cvtColor(frame, cv2.COLOR_BGR2GRAY)\n",
    "    frame = detection(gray, frame,face_detector, smile_detector)\n",
    "\n",
    "    cv2.imshow('Attendance',frame)\n",
    "    if cv2.waitKey(1)==27:\n",
    "        break\n",
    "    \n",
    "cap.release()\n",
    "cv2.destroyAllWindows()"
   ]
  }
 ],
 "metadata": {
  "kernelspec": {
   "display_name": "opencv",
   "language": "python",
   "name": "python3"
  },
  "language_info": {
   "codemirror_mode": {
    "name": "ipython",
    "version": 3
   },
   "file_extension": ".py",
   "mimetype": "text/x-python",
   "name": "python",
   "nbconvert_exporter": "python",
   "pygments_lexer": "ipython3",
   "version": "3.9.13"
  },
  "orig_nbformat": 4,
  "vscode": {
   "interpreter": {
    "hash": "187591551b6979c76b638e70680068208162b74d7b0dd20e68598278a9fc3b7a"
   }
  }
 },
 "nbformat": 4,
 "nbformat_minor": 2
}
