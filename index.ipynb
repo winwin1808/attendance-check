{
 "cells": [
  {
   "cell_type": "code",
   "execution_count": 1,
   "metadata": {},
   "outputs": [],
   "source": [
    "import cv2\n",
    "import os\n",
    "from datetime import date\n",
    "from datetime import datetime\n",
    "import numpy as np\n",
    "from sklearn.neighbors import KNeighborsClassifier\n",
    "import pandas as pd\n",
    "import joblib"
   ]
  },
  {
   "cell_type": "code",
   "execution_count": 20,
   "metadata": {},
   "outputs": [],
   "source": [
    "face_detector = cv2.CascadeClassifier('model/haarcascade_frontalface_default.xml')\n",
    "smile_detector = cv2.CascadeClassifier('model/haarcascade_smile.xml')\n",
    "eye_detector = cv2.CascadeClassifier('model/haarcascade_eye.xml')"
   ]
  },
  {
   "cell_type": "code",
   "execution_count": 3,
   "metadata": {},
   "outputs": [],
   "source": [
    "cap = cv2.VideoCapture(0)"
   ]
  },
  {
   "cell_type": "code",
   "execution_count": 4,
   "metadata": {},
   "outputs": [],
   "source": [
    "datetoday = date.today().strftime(\"%m_%d_%y\")\n",
    "datetoday2 = date.today().strftime(\"%d-%B-%Y\")"
   ]
  },
  {
   "cell_type": "code",
   "execution_count": 5,
   "metadata": {},
   "outputs": [],
   "source": [
    "if not os.path.isdir('Attendance'):\n",
    "    os.makedirs('Attendance')\n",
    "if not os.path.isdir('static/faces'):\n",
    "    os.makedirs('static/faces')\n",
    "if f'Attendance-{datetoday}.csv' not in os.listdir('Attendance'):\n",
    "    with open(f'Attendance/Attendance-{datetoday}.csv','w') as f:\n",
    "        f.write('Name,Roll,Time')\n"
   ]
  },
  {
   "cell_type": "code",
   "execution_count": 6,
   "metadata": {},
   "outputs": [],
   "source": [
    "def totalreg():\n",
    "    return len(os.listdir('static/faces'))"
   ]
  },
  {
   "cell_type": "code",
   "execution_count": 7,
   "metadata": {},
   "outputs": [],
   "source": [
    "def extract_faces(img):\n",
    "    gray = cv2.cvtColor(img, cv2.COLOR_BGR2GRAY)\n",
    "    face_points = face_detector.detectMultiScale(gray, 1.3, 5)\n",
    "    return face_points"
   ]
  },
  {
   "cell_type": "code",
   "execution_count": 8,
   "metadata": {},
   "outputs": [],
   "source": [
    "def smile_detect(img):\n",
    "    gray = cv2.cvtColor(img, cv2.COLOR_BGR2GRAY)\n",
    "    smile_points = smile_detector.detectMultiScale(gray, 1.7, 35)\n",
    "    return smile_points"
   ]
  },
  {
   "cell_type": "code",
   "execution_count": 21,
   "metadata": {},
   "outputs": [],
   "source": [
    "def eye_detect(img):\n",
    "    gray = cv2.cvtColor(img, cv2.COLOR_BGR2GRAY)\n",
    "    eye_points = eye_detector.detectMultiScale(gray, 1.3, 5)\n",
    "    return eye_points"
   ]
  },
  {
   "cell_type": "code",
   "execution_count": 9,
   "metadata": {},
   "outputs": [],
   "source": [
    "def identify_face(facearray):\n",
    "    model = joblib.load('model/face_recognition_model.pkl')\n",
    "    return model.predict(facearray)"
   ]
  },
  {
   "cell_type": "code",
   "execution_count": 10,
   "metadata": {},
   "outputs": [],
   "source": [
    "def train_model():\n",
    "    faces = []\n",
    "    labels = []\n",
    "    userlist = os.listdir('static/faces')\n",
    "    for user in userlist:\n",
    "        for imgname in os.listdir(f'static/faces/{user}'):\n",
    "            img = cv2.imread(f'static/faces/{user}/{imgname}')\n",
    "            resized_face = cv2.resize(img, (50, 50))\n",
    "            faces.append(resized_face.ravel())\n",
    "            labels.append(user)\n",
    "    faces = np.array(faces)\n",
    "    knn = KNeighborsClassifier(n_neighbors=5)\n",
    "    knn.fit(faces,labels)\n",
    "    joblib.dump(knn,'model/face_recognition_model.pkl')"
   ]
  },
  {
   "cell_type": "code",
   "execution_count": 11,
   "metadata": {},
   "outputs": [],
   "source": [
    "def extract_attendance():\n",
    "    df = pd.read_csv(f'Attendance/Attendance-{datetoday}.csv')\n",
    "    names = df['Name']\n",
    "    rolls = df['Roll']\n",
    "    times = df['Time']\n",
    "    l = len(df)\n",
    "    return names,rolls,times,l"
   ]
  },
  {
   "cell_type": "code",
   "execution_count": 12,
   "metadata": {},
   "outputs": [],
   "source": [
    "def add_attendance(name):\n",
    "    username = name.split('_')[0]\n",
    "    userid = name.split('_')[1]\n",
    "    current_time = datetime.now().strftime(\"%H:%M:%S\")\n",
    "    \n",
    "    df = pd.read_csv(f'Attendance/Attendance-{datetoday}.csv')\n",
    "    if int(userid) not in list(df['Roll']):\n",
    "        with open(f'Attendance/Attendance-{datetoday}.csv','a') as f:\n",
    "            f.write(f'\\n{username},{userid},{current_time}')"
   ]
  },
  {
   "cell_type": "code",
   "execution_count": 13,
   "metadata": {},
   "outputs": [],
   "source": [
    "names,rolls,times,l = extract_attendance()"
   ]
  },
  {
   "cell_type": "code",
   "execution_count": 14,
   "metadata": {},
   "outputs": [
    {
     "data": {
      "text/plain": [
       "(Series([], Name: Name, dtype: object),\n",
       " Series([], Name: Roll, dtype: object),\n",
       " Series([], Name: Time, dtype: object),\n",
       " 0)"
      ]
     },
     "execution_count": 14,
     "metadata": {},
     "output_type": "execute_result"
    }
   ],
   "source": [
    "names,rolls,times,l"
   ]
  },
  {
   "cell_type": "code",
   "execution_count": 15,
   "metadata": {},
   "outputs": [],
   "source": [
    "def draw_smile(img, center, radius):\n",
    "    axes = (radius, radius//2)\n",
    "    color = (255,0,0)\n",
    "    cv2.ellipse(img, center, axes, 0, 0, 180, color,thickness=2,lineType=cv2.LINE_AA)\n",
    "    return"
   ]
  },
  {
   "cell_type": "code",
   "execution_count": 16,
   "metadata": {},
   "outputs": [],
   "source": [
    "# def detection(grayscale, face, face_detect, smile_detect):\n",
    "#     #NGUYEN BAN\n",
    "    \n",
    "#     face = face_detect.detectMultiScale(grayscale, 1.3, 5)\n",
    "#     for (x,y,w,h) in face:\n",
    "\n",
    "#         ri_grayscale = grayscale[y:y+h, x:x+w]\n",
    "#         ri_color = face[y:y+h, x:x+w]\n",
    "        \n",
    "        \n",
    "#         cv2.rectangle(face,(x, y), (x+w, y+h), (255, 0, 20), 2)\n",
    "        \n",
    "#         smile_lst = smile_detect.detectMultiScale(ri_grayscale, 1.7, 35)\n",
    "#         smiled = False\n",
    "        \n",
    "#         for (x_smile, y_smile, w_smile, h_smile) in smile_lst:\n",
    "#             draw_smile(ri_color, (x_smile + w_smile // 2, y_smile + h_smile // 4), radius=w_smile // 3)\n",
    "#             smiled =  True\n",
    "            \n",
    "#         if smiled:\n",
    "#             # cv2.putText(face,\"Smile\",(10,30),cv2.FONT_HERSHEY_SIMPLEX,0.5,(255,0,20),2)\n",
    "#             cv2.putText(face,\"Smile\",(100,100),cv2.FONT_HERSHEY_SIMPLEX,1.5,(0,0,255),3)\n",
    "            \n",
    "#     return face"
   ]
  },
  {
   "cell_type": "code",
   "execution_count": 17,
   "metadata": {},
   "outputs": [],
   "source": [
    "# def detection(grayscale, img, face_detect, smile_detect):\n",
    "    \n",
    "#     count = 0\n",
    "    \n",
    "#     face = face_detect.detectMultiScale(grayscale, 1.3, 5)\n",
    "    \n",
    "#     while ret:\n",
    "        \n",
    "#         if extract_faces(img)!=():\n",
    "#             (x,y,w,h) = extract_faces(img)[0]\n",
    "\n",
    "#         # ri_color = img[y:y+h, x:x+w]\n",
    "        \n",
    "#         cv2.rectangle(img,(x, y), (x+w, y+h), (255, 0, 20), 2)\n",
    "    \n",
    "#         face = cv2.resize(img[y:y+h, x:x+w], (50, 50))\n",
    "#         identified_person = identify_face(face.reshape(1,-1))[0]\n",
    "#         add_attendance(identified_person)\n",
    "#         cv2.putText(img,f'{identified_person}',(30,30),cv2.FONT_HERSHEY_SIMPLEX,1,(255, 20, 20),2,cv2.LINE_AA)\n",
    "        \n",
    "#         smile_lst = smile_detect.detectMultiScale(img, 1.7, 35)\n",
    "#         smiled = False\n",
    "        \n",
    "#         for (x_smile, y_smile, w_smile, h_smile) in smile_lst:\n",
    "#             # draw_smile(ri_color, (x_smile + w_smile // 2, y_smile + h_smile // 4), radius=w_smile // 3)\n",
    "#             smiled =  True\n",
    "            \n",
    "#         if smiled:\n",
    "#             # cv2.putText(face,\"Smile\",(10,30),cv2.FONT_HERSHEY_SIMPLEX,0.5,(255,0,20),2)\n",
    "#             cv2.putText(img,\"Smile\",(100,100),cv2.FONT_HERSHEY_SIMPLEX,1.5,(0,0,255),3)\n",
    "#             count += 1\n",
    "#             print(count)\n",
    "#     return img"
   ]
  },
  {
   "cell_type": "code",
   "execution_count": 22,
   "metadata": {},
   "outputs": [
    {
     "ename": "ModuleNotFoundError",
     "evalue": "No module named 'dlib'",
     "output_type": "error",
     "traceback": [
      "\u001b[1;31m---------------------------------------------------------------------------\u001b[0m",
      "\u001b[1;31mModuleNotFoundError\u001b[0m                       Traceback (most recent call last)",
      "Cell \u001b[1;32mIn [22], line 1\u001b[0m\n\u001b[1;32m----> 1\u001b[0m \u001b[39mimport\u001b[39;00m \u001b[39mdlib\u001b[39;00m  \u001b[39m# for face and landmark detection\u001b[39;00m\n\u001b[0;32m      2\u001b[0m \u001b[39mimport\u001b[39;00m \u001b[39mimutils\u001b[39;00m\n",
      "\u001b[1;31mModuleNotFoundError\u001b[0m: No module named 'dlib'"
     ]
    }
   ],
   "source": [
    "import dlib  # for face and landmark detection\n",
    "import imutils"
   ]
  },
  {
   "cell_type": "code",
   "execution_count": 18,
   "metadata": {},
   "outputs": [
    {
     "name": "stdout",
     "output_type": "stream",
     "text": [
      "200\n"
     ]
    }
   ],
   "source": [
    "# cap = cv2.VideoCapture(0)\n",
    "# ret = True\n",
    "# count = 0\n",
    "# while ret:\n",
    "#     ret,frame = cap.read()\n",
    "    \n",
    "#     face = extract_faces(frame)\n",
    "#     smile = smile_detect(frame)\n",
    "    \n",
    "#     for (x_face, y_face, w_face, h_face) in face:\n",
    "        \n",
    "\n",
    "        \n",
    "#         cv2.rectangle(frame,(x_face, y_face), (x_face+w_face, y_face+h_face), (255, 0, 20), 2)\n",
    "#         face = cv2.resize(frame[y_face:y_face+h_face,x_face:x_face+w_face], (50, 50))\n",
    "#         identified_person = identify_face(face.reshape(1,-1))[0]\n",
    "        \n",
    "        \n",
    "#         ri_color = frame[y_face:y_face+h_face, x_face:x_face+w_face]\n",
    "#         smiled = False\n",
    "        \n",
    "#         for (x_smile, y_smile, w_smile, h_smile) in smile:\n",
    "#             draw_smile(ri_color, (x_smile + w_smile // 2, y_smile + h_smile // 4), radius=w_smile // 3)\n",
    "#             smiled =  True\n",
    "\n",
    "#         if smiled:\n",
    "#             cv2.putText(frame,\"Smile!\",(30,90),cv2.FONT_HERSHEY_SIMPLEX,1,(0,255,255),2)\n",
    "#             count += 1\n",
    "            \n",
    "            \n",
    "#         cv2.putText(frame,f'{identified_person}',(30,30),cv2.FONT_HERSHEY_SIMPLEX,1,(255, 20, 20),2,cv2.LINE_AA)\n",
    "#         cv2.putText(frame,f'Frame Smiling: {count}/200',(30,60),cv2.FONT_HERSHEY_SIMPLEX,1,(255, 100, 100),2,cv2.LINE_AA)\n",
    "        \n",
    "        \n",
    "\n",
    "#     cv2.imshow('Attendance',frame)\n",
    "    \n",
    "#     # smile_lst = smile_detector.detectMultiScale(frame, 1.7, 35)\n",
    "    \n",
    "#     if cv2.waitKey(1)==27:\n",
    "#         break\n",
    "    \n",
    "#     if count == 200:\n",
    "#         add_attendance(identified_person)\n",
    "#         break\n",
    "# print(count)\n",
    "\n",
    "# cap.release()\n",
    "# cv2.destroyAllWindows()\n",
    "# names,rolls,times,l = extract_attendance()  "
   ]
  },
  {
   "cell_type": "code",
   "execution_count": 19,
   "metadata": {},
   "outputs": [],
   "source": [
    "# cap = cv2.VideoCapture(0)\n",
    "# ret = True\n",
    "\n",
    "# while ret:\n",
    "#     ret,frame = cap.read()\n",
    "#     gray = cv2.cvtColor(frame, cv2.COLOR_BGR2GRAY)\n",
    "#     frame = detection(gray, frame,face_detector, smile_detector)\n",
    "\n",
    "#     cv2.imshow('Attendance',frame)\n",
    "#     if cv2.waitKey(1)==27:\n",
    "#         break\n",
    "    \n",
    "# cap.release()\n",
    "# cv2.destroyAllWindows()"
   ]
  },
  {
   "cell_type": "code",
   "execution_count": 26,
   "metadata": {},
   "outputs": [],
   "source": [
    "cap = cv2.VideoCapture(0)\n",
    "ret = True\n",
    "\n",
    "while ret:\n",
    "    ret,frame = cap.read()\n",
    "    \n",
    "    face = extract_faces(frame)\n",
    "    smile = smile_detect(frame)\n",
    "    \n",
    "    for (x_face, y_face, w_face, h_face) in face:\n",
    "\n",
    "        cv2.rectangle(frame,(x_face, y_face), (x_face+w_face, y_face+h_face), (255, 0, 20), 2)\n",
    "        cv2.putText(frame,f'{x_face, y_face, w_face, h_face}',(x_face,y_face-20),cv2.FONT_HERSHEY_SIMPLEX,1,(255, 20, 20),2,cv2.LINE_AA)\n",
    "        \n",
    "        face = cv2.resize(frame[y_face:y_face+h_face,x_face:x_face+w_face], (50, 50))\n",
    "        identified_person = identify_face(face.reshape(1,-1))[0]\n",
    "        \n",
    "    \n",
    "    cv2.imshow('Attendance',frame)\n",
    "    \n",
    "    # smile_lst = smile_detector.detectMultiScale(frame, 1.7, 35)\n",
    "    \n",
    "    if cv2.waitKey(1)==27:\n",
    "        break\n",
    "\n",
    "cap.release()\n",
    "cv2.destroyAllWindows()\n",
    "names,rolls,times,l = extract_attendance()  "
   ]
  }
 ],
 "metadata": {
  "kernelspec": {
   "display_name": "opencv",
   "language": "python",
   "name": "python3"
  },
  "language_info": {
   "codemirror_mode": {
    "name": "ipython",
    "version": 3
   },
   "file_extension": ".py",
   "mimetype": "text/x-python",
   "name": "python",
   "nbconvert_exporter": "python",
   "pygments_lexer": "ipython3",
   "version": "3.9.13"
  },
  "orig_nbformat": 4,
  "vscode": {
   "interpreter": {
    "hash": "187591551b6979c76b638e70680068208162b74d7b0dd20e68598278a9fc3b7a"
   }
  }
 },
 "nbformat": 4,
 "nbformat_minor": 2
}
